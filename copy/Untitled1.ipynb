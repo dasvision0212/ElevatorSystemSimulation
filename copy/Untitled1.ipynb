{
 "cells": [
  {
   "cell_type": "code",
   "execution_count": 1,
   "metadata": {},
   "outputs": [],
   "source": [
    "import pandas as pd\n",
    "\n",
    "simpleRun_ava = pd.read_csv('simpleRun_allava.csv')"
   ]
  },
  {
   "cell_type": "code",
   "execution_count": 6,
   "metadata": {},
   "outputs": [
    {
     "data": {
      "text/plain": [
       "157"
      ]
     },
     "execution_count": 6,
     "metadata": {},
     "output_type": "execute_result"
    }
   ],
   "source": [
    "len(simpleRun_ava)"
   ]
  },
  {
   "cell_type": "code",
   "execution_count": 8,
   "metadata": {},
   "outputs": [
    {
     "data": {
      "text/html": [
       "<div>\n",
       "<style scoped>\n",
       "    .dataframe tbody tr th:only-of-type {\n",
       "        vertical-align: middle;\n",
       "    }\n",
       "\n",
       "    .dataframe tbody tr th {\n",
       "        vertical-align: top;\n",
       "    }\n",
       "\n",
       "    .dataframe thead th {\n",
       "        text-align: right;\n",
       "    }\n",
       "</style>\n",
       "<table border=\"1\" class=\"dataframe\">\n",
       "  <thead>\n",
       "    <tr style=\"text-align: right;\">\n",
       "      <th></th>\n",
       "      <th>Unnamed: 0</th>\n",
       "      <th>cid</th>\n",
       "      <th>pass_by</th>\n",
       "      <th>appear_time</th>\n",
       "      <th>destination</th>\n",
       "      <th>boarding_time</th>\n",
       "      <th>get_off_time</th>\n",
       "      <th>total_waiting_time</th>\n",
       "      <th>time_in_elev</th>\n",
       "      <th>journey_time</th>\n",
       "      <th>transfer_num</th>\n",
       "      <th>isSuccessful</th>\n",
       "    </tr>\n",
       "  </thead>\n",
       "  <tbody>\n",
       "    <tr>\n",
       "      <th>0</th>\n",
       "      <td>0</td>\n",
       "      <td>0</td>\n",
       "      <td>['4', '1']</td>\n",
       "      <td>9.916164</td>\n",
       "      <td>1</td>\n",
       "      <td>[40.91616365876797]</td>\n",
       "      <td>[54.91616365876797]</td>\n",
       "      <td>31.000000</td>\n",
       "      <td>14.000000</td>\n",
       "      <td>45.000000</td>\n",
       "      <td>0</td>\n",
       "      <td>True</td>\n",
       "    </tr>\n",
       "    <tr>\n",
       "      <th>1</th>\n",
       "      <td>1</td>\n",
       "      <td>1</td>\n",
       "      <td>['12', '5', '1', 'B4']</td>\n",
       "      <td>45.952466</td>\n",
       "      <td>B4</td>\n",
       "      <td>[125.02641372192026, 160.19069985029287, 201.0...</td>\n",
       "      <td>[155.02641372192028, 180.19069985029287, 229.6...</td>\n",
       "      <td>105.073947</td>\n",
       "      <td>78.600082</td>\n",
       "      <td>183.674029</td>\n",
       "      <td>2</td>\n",
       "      <td>True</td>\n",
       "    </tr>\n",
       "    <tr>\n",
       "      <th>2</th>\n",
       "      <td>2</td>\n",
       "      <td>2</td>\n",
       "      <td>['13', '5', '1']</td>\n",
       "      <td>47.846350</td>\n",
       "      <td>1</td>\n",
       "      <td>[123.19069985029287, 162.19069985029287]</td>\n",
       "      <td>[158.19069985029287, 180.19069985029287]</td>\n",
       "      <td>79.344350</td>\n",
       "      <td>53.000000</td>\n",
       "      <td>132.344350</td>\n",
       "      <td>1</td>\n",
       "      <td>True</td>\n",
       "    </tr>\n",
       "    <tr>\n",
       "      <th>3</th>\n",
       "      <td>3</td>\n",
       "      <td>3</td>\n",
       "      <td>['B1', '1', '5', '7']</td>\n",
       "      <td>53.190700</td>\n",
       "      <td>7</td>\n",
       "      <td>[64.19069985029287, 184.19069985029287, 206.19...</td>\n",
       "      <td>[70.19069985029287, 202.19069985029287, 216.19...</td>\n",
       "      <td>129.000000</td>\n",
       "      <td>34.000000</td>\n",
       "      <td>163.000000</td>\n",
       "      <td>2</td>\n",
       "      <td>True</td>\n",
       "    </tr>\n",
       "    <tr>\n",
       "      <th>4</th>\n",
       "      <td>4</td>\n",
       "      <td>4</td>\n",
       "      <td>['5', '7']</td>\n",
       "      <td>55.738152</td>\n",
       "      <td>7</td>\n",
       "      <td>[82.73815195832616]</td>\n",
       "      <td>[92.73815195832616]</td>\n",
       "      <td>27.000000</td>\n",
       "      <td>10.000000</td>\n",
       "      <td>37.000000</td>\n",
       "      <td>0</td>\n",
       "      <td>True</td>\n",
       "    </tr>\n",
       "  </tbody>\n",
       "</table>\n",
       "</div>"
      ],
      "text/plain": [
       "   Unnamed: 0  cid                 pass_by  appear_time destination  \\\n",
       "0           0    0              ['4', '1']     9.916164           1   \n",
       "1           1    1  ['12', '5', '1', 'B4']    45.952466          B4   \n",
       "2           2    2        ['13', '5', '1']    47.846350           1   \n",
       "3           3    3   ['B1', '1', '5', '7']    53.190700           7   \n",
       "4           4    4              ['5', '7']    55.738152           7   \n",
       "\n",
       "                                       boarding_time  \\\n",
       "0                                [40.91616365876797]   \n",
       "1  [125.02641372192026, 160.19069985029287, 201.0...   \n",
       "2           [123.19069985029287, 162.19069985029287]   \n",
       "3  [64.19069985029287, 184.19069985029287, 206.19...   \n",
       "4                                [82.73815195832616]   \n",
       "\n",
       "                                        get_off_time  total_waiting_time  \\\n",
       "0                                [54.91616365876797]           31.000000   \n",
       "1  [155.02641372192028, 180.19069985029287, 229.6...          105.073947   \n",
       "2           [158.19069985029287, 180.19069985029287]           79.344350   \n",
       "3  [70.19069985029287, 202.19069985029287, 216.19...          129.000000   \n",
       "4                                [92.73815195832616]           27.000000   \n",
       "\n",
       "   time_in_elev  journey_time  transfer_num  isSuccessful  \n",
       "0     14.000000     45.000000             0          True  \n",
       "1     78.600082    183.674029             2          True  \n",
       "2     53.000000    132.344350             1          True  \n",
       "3     34.000000    163.000000             2          True  \n",
       "4     10.000000     37.000000             0          True  "
      ]
     },
     "execution_count": 8,
     "metadata": {},
     "output_type": "execute_result"
    }
   ],
   "source": [
    "wait_df = simpleRun_ava[simpleRun_ava['isSuccessful']==1]\n",
    "wait_df.head()"
   ]
  },
  {
   "cell_type": "code",
   "execution_count": 44,
   "metadata": {},
   "outputs": [
    {
     "data": {
      "text/plain": [
       "<Figure size 432x288 with 0 Axes>"
      ]
     },
     "metadata": {},
     "output_type": "display_data"
    }
   ],
   "source": [
    "import matplotlib.pyplot as plt\n",
    "import time\n",
    "from itertools import count\n",
    "from matplotlib.animation import FuncAnimation\n",
    "\n",
    "index = count()\n",
    "\n",
    "\n",
    "\n",
    "def animate(i):\n",
    "    x = range(len(wait_df))\n",
    "    y_wait = wait_df[\"total_waiting_time\"]\n",
    "    y_jour = wait_df['journey_time']\n",
    "    \n",
    "    plt.cla()\n",
    "    \n",
    "    plt.plot(x,y_wait,label='waiting_time')\n",
    "    plt.Xplot(x,y_jour,label='journey_time')\n",
    "    \n",
    "    plt.tight_layout()\n",
    "    \n",
    "ani = FuncAnimation(plt.gcf(),animate,interval=1000)\n",
    "\n",
    "plt.tight_layout()\n",
    "plt.show()"
   ]
  },
  {
   "cell_type": "code",
   "execution_count": null,
   "metadata": {},
   "outputs": [],
   "source": []
  }
 ],
 "metadata": {
  "kernelspec": {
   "display_name": "Python 3",
   "language": "python",
   "name": "python3"
  },
  "language_info": {
   "codemirror_mode": {
    "name": "ipython",
    "version": 3
   },
   "file_extension": ".py",
   "mimetype": "text/x-python",
   "name": "python",
   "nbconvert_exporter": "python",
   "pygments_lexer": "ipython3",
   "version": "3.8.5"
  }
 },
 "nbformat": 4,
 "nbformat_minor": 4
}
